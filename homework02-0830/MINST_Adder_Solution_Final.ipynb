{
 "cells": [
  {
   "cell_type": "markdown",
   "metadata": {},
   "source": [
    "# 作业：手写数字加法机\n",
    "\n",
    "本文件是与集智AI学园出品的系列课程“火炬上的深度学习”配套的作业notebook。本作业要求学员构造一个卷积神经网，输入两张手写数字图片，输出这两个数字的和。\n",
    "\n",
    "本文件提供了一个完成做的大框架，学员需要自行修改、添加代码，从而完成任务\n",
    "\n",
    "本文件是集智AI学园http://campus.swarma.org 出品的“火炬上的深度学习”第III课的配套源代码\n"
   ]
  },
  {
   "cell_type": "code",
   "execution_count": 1,
   "metadata": {
    "collapsed": true
   },
   "outputs": [],
   "source": [
    "# 导入所需要的包，请保证torchvision已经在你的环境中安装好\n",
    "import torch\n",
    "import torch.nn as nn\n",
    "from torch.autograd import Variable\n",
    "import torch.optim as optim\n",
    "import torch.nn.functional as F\n",
    "\n",
    "import torchvision.datasets as dsets\n",
    "import torchvision.transforms as transforms\n",
    "\n",
    "import matplotlib.pyplot as plt\n",
    "import numpy as np\n",
    "\n",
    "%matplotlib inline"
   ]
  },
  {
   "cell_type": "code",
   "execution_count": 2,
   "metadata": {
    "collapsed": true
   },
   "outputs": [],
   "source": [
    "USE_CUDA = torch.cuda.is_available()"
   ]
  },
  {
   "cell_type": "code",
   "execution_count": 3,
   "metadata": {
    "collapsed": true
   },
   "outputs": [],
   "source": [
    "\n",
    "# 定义需要用到的超参数\n",
    "image_size = 28  #图像的总尺寸28*28\n",
    "num_classes = 10  #标签的种类数\n",
    "num_epochs = 30  #训练的总循环周期\n",
    "batch_size = 64\n",
    "\n",
    "# 加载MINIST数据，如果没有下载过，就会在当前路径下新建/data子目录，并把文件存放其中\n",
    "\n",
    "train_dataset = dsets.MNIST(root='./data',  #文件存放路径\n",
    "                            train=True,   #提取训练集\n",
    "                            transform=transforms.ToTensor(),  #将图像转化为Tensor\n",
    "                            download=True)\n",
    "\n",
    "test_dataset = dsets.MNIST(root='./data', \n",
    "                           train=False, \n",
    "                           transform=transforms.ToTensor())\n",
    "\n",
    "# 由于每一个样本需要输入两个图片，因此每一个loader和sampler都有两个\n",
    "\n",
    "sampler1 = torch.utils.data.sampler.SubsetRandomSampler(\n",
    "    np.random.permutation(range(len(train_dataset))))\n",
    "sampler2 = torch.utils.data.sampler.SubsetRandomSampler(\n",
    "    np.random.permutation(range(len(train_dataset))))\n",
    "\n",
    "# 训练数据的两个加载器\n",
    "train_loader1 = torch.utils.data.DataLoader(dataset = train_dataset,\n",
    "                                           batch_size = batch_size,\n",
    "                                           shuffle = False,\n",
    "                                           sampler = sampler1\n",
    "                                           )\n",
    "train_loader2 = torch.utils.data.DataLoader(dataset = train_dataset,\n",
    "                                           batch_size = batch_size,\n",
    "                                           shuffle = False,\n",
    "                                           sampler = sampler2\n",
    "                                           )\n",
    "#vlueerror: mutually exclussive with shuffle??\n",
    "\n",
    "# 校验数据和测试数据都各自有两套\n",
    "val_size = 5000\n",
    "val_indices1 = range(val_size)\n",
    "val_indices2 = np.random.permutation(range(val_size))\n",
    "test_indices1 = range(val_size, len(test_dataset))\n",
    "test_indices2 = np.random.permutation(test_indices1)\n",
    "val_sampler1 = torch.utils.data.sampler.SubsetRandomSampler(val_indices1)\n",
    "val_sampler2 = torch.utils.data.sampler.SubsetRandomSampler(val_indices2)\n",
    "\n",
    "test_sampler1 = torch.utils.data.sampler.SubsetRandomSampler(test_indices1)\n",
    "test_sampler2 = torch.utils.data.sampler.SubsetRandomSampler(test_indices2)\n",
    "\n",
    "val_loader1 = torch.utils.data.DataLoader(dataset = test_dataset,\n",
    "                                        batch_size = batch_size,\n",
    "                                        shuffle = False,\n",
    "                                        sampler = val_sampler1\n",
    "                                        )\n",
    "val_loader2 = torch.utils.data.DataLoader(dataset = test_dataset,\n",
    "                                        batch_size = batch_size,\n",
    "                                        shuffle = False,\n",
    "                                        sampler = val_sampler2\n",
    "                                        )\n",
    "test_loader1 = torch.utils.data.DataLoader(dataset = test_dataset,\n",
    "                                         batch_size = batch_size,\n",
    "                                         shuffle = False,\n",
    "                                         sampler = test_sampler1\n",
    "                                         )\n",
    "test_loader2 = torch.utils.data.DataLoader(dataset = test_dataset,\n",
    "                                         batch_size = batch_size,\n",
    "                                         shuffle = False,\n",
    "                                         sampler = test_sampler2\n",
    "                                         )"
   ]
  },
  {
   "cell_type": "markdown",
   "metadata": {},
   "source": [
    "# MINST Adder"
   ]
  },
  {
   "cell_type": "markdown",
   "metadata": {},
   "source": [
    "为了实现加法器，需要同时处理两个手写体数字图像，并对它进行相应的图像处理\n",
    "因此，网络的架构为两个卷积神经网络，串联上两个全链接层"
   ]
  },
  {
   "cell_type": "code",
   "execution_count": 4,
   "metadata": {},
   "outputs": [
    {
     "data": {
      "text/plain": [
       "MINSTAdder (\n",
       "  (net_pool): MaxPool2d (size=(2, 2), stride=(2, 2), dilation=(1, 1))\n",
       "  (bc1): BatchNorm1d(1024, eps=1e-05, momentum=0.1, affine=True)\n",
       "  (bc2): BatchNorm1d(256, eps=1e-05, momentum=0.1, affine=True)\n",
       "  (net1_conv1): Conv2d(1, 16, kernel_size=(5, 5), stride=(1, 1), padding=(2, 2))\n",
       "  (net1_conv2): Conv2d(16, 32, kernel_size=(5, 5), stride=(1, 1), padding=(2, 2))\n",
       "  (net1_conv3): Conv2d(32, 64, kernel_size=(5, 5), stride=(1, 1), padding=(2, 2))\n",
       "  (net2_conv1): Conv2d(1, 16, kernel_size=(5, 5), stride=(1, 1), padding=(2, 2))\n",
       "  (net2_conv2): Conv2d(16, 32, kernel_size=(5, 5), stride=(1, 1), padding=(2, 2))\n",
       "  (net2_conv3): Conv2d(32, 64, kernel_size=(5, 5), stride=(1, 1), padding=(2, 2))\n",
       "  (fc1): Linear (1152 -> 1024)\n",
       "  (fc2): Linear (1024 -> 256)\n",
       "  (fc3): Linear (256 -> 1)\n",
       ")"
      ]
     },
     "execution_count": 4,
     "metadata": {},
     "output_type": "execute_result"
    }
   ],
   "source": [
    "depth = [16, 32, 64]\n",
    "fc = [1024, 256, 1] \n",
    "class MINSTAdder(nn.Module):\n",
    "    def __init__(self):\n",
    "        super(MINSTAdder, self).__init__()\n",
    "        #公共网络部件\n",
    "        self.net_pool = nn.MaxPool2d(kernel_size=2, stride=2) # only hyperparameter here\n",
    "        self.bc1 = nn.BatchNorm1d(num_features=fc[0]) # batch normalization, because of the batch training\n",
    "        self.bc2 = nn.BatchNorm1d(num_features=fc[1])\n",
    "        \n",
    "        #处理第一个图像处理用的卷积网络部件\n",
    "        self.net1_conv1 = nn.Conv2d(in_channels=1, out_channels=depth[0], kernel_size=5, padding = 2)\n",
    "        # feature map size is 14*14 by pooling\n",
    "        # padding=2 for same padding\n",
    "        self.net1_conv2 = nn.Conv2d(depth[0], depth[1], 5, padding = 2) \n",
    "        # feature map size is 7*7 by pooling\n",
    "        self.net1_conv3 = nn.Conv2d(depth[1], depth[2], 5, padding = 2)\n",
    "        # feature map size is 3*3 by pooling\n",
    "         \n",
    "        #处理第二个图像处理用的卷积网络部件\n",
    "        self.net2_conv1 = nn.Conv2d(in_channels=1, out_channels=depth[0], kernel_size=5, padding = 2)\n",
    "        # feature map size is 14*14 by pooling\n",
    "        # padding=2 for same padding\n",
    "        self.net2_conv2 = nn.Conv2d(depth[0], depth[1], 5, padding = 2) \n",
    "        # feature map size is 7*7 by pooling      \n",
    "        self.net2_conv3 = nn.Conv2d(depth[1], depth[2], 5, padding = 2)\n",
    "        # feature map size is 3*3 by pooling\n",
    "        \n",
    "        #后面的全连阶层\n",
    "        self.fc1 = nn.Linear(in_features= 2 * depth[2] * (image_size // 4 // 2) * (image_size // 4 // 2), \n",
    "                             out_features=fc[0])\n",
    "        self.fc2 = nn.Linear(fc[0], fc[1])\n",
    "        self.fc3 = nn.Linear(fc[1], fc[2])\n",
    "        \n",
    "    def forward(self, x, y, training = True):\n",
    "        #第一张图像的处理流程 \n",
    "        x = F.relu(self.net1_conv1(x))         # 1*28*28 --> 16*28*28\n",
    "        x = self.net_pool(x)                   # 16*28*28 --> 16*14*14\n",
    "        x = F.relu(self.net1_conv2(x))         # 16*14*14 --> 32*14*14\n",
    "        x = self.net_pool(x)                   # 32*14*14 --> 32*7*7\n",
    "        x = F.relu(self.net1_conv3(x))         # 32*7*7 --> 64*7*7\n",
    "        x = self.net_pool(x)                   # 64*7*7 --> 64*3*3\n",
    "        x = x.view(-1, depth[2] * (image_size // 4 // 2) * (image_size // 4 // 2)) # flatten, reshape variable\n",
    "         \n",
    "        #第二张图像的处理流程\n",
    "        y = F.relu(self.net2_conv1(y))         # 1*28*28 --> 16*28*28\n",
    "        y = self.net_pool(y)                   # 16*28*28 --> 16*14*14\n",
    "        y = F.relu(self.net2_conv2(y))         # 16*14*14 --> 32*14*14\n",
    "        y = self.net_pool(y)                   # 32*14*14 --> 32*7*7\n",
    "        y = F.relu(self.net2_conv3(y))         # 32*7*7 --> 64*7*7\n",
    "        y = self.net_pool(y)                   # 64*7*7 --> 64*3*3\n",
    "        y = y.view(-1, depth[2] * (image_size // 4 // 2) * (image_size // 4 // 2)) # flatten, reshape variable\n",
    "         \n",
    "        #将前两部处理得到的张量并列到一起，喂给两层全链接前馈网络，最后输出预测数值\n",
    "        z = torch.cat((x, y), 1)                 \n",
    "        z = F.relu(self.bc1(self.fc1(z)))       # 1024\n",
    "        z = F.dropout(z, p=0.5, training=self.training) #以默认为0.5的概率对这一层进行dropout操作\n",
    "        z = F.relu(self.bc2(self.fc2(z)))       # 1024 --> 256\n",
    "        z = F.dropout(z, p=0.2, training=self.training)\n",
    "        z = F.relu(self.fc3(z))                 # 256 --> 1    \n",
    "        return z\n",
    "        \n",
    "\n",
    "# 计算准确度的函数（有多少数字给出了严格的正确输出结果）\n",
    "def rightness(y, target):\n",
    "    out = torch.round(y.view(-1)).type(torch.LongTensor)\n",
    "    out = out.eq(target).sum()\n",
    "    out1 = y.size()[0]\n",
    "    return(out, out1)\n",
    "\n",
    "net = MINSTAdder()\n",
    "net"
   ]
  },
  {
   "cell_type": "code",
   "execution_count": 5,
   "metadata": {
    "collapsed": true
   },
   "outputs": [],
   "source": [
    "#将网络定义为一个预测器，来对加法的结果进行预测，因此用MSE平均平房误差作为我们的损失函数\n",
    "if USE_CUDA:\n",
    "    net.cuda()\n",
    "criterion = nn.MSELoss()\n",
    "optimizer = optim.Adam(net.parameters(), lr = 0.001) #default learning rate = 0.001\n",
    "results = {}"
   ]
  },
  {
   "cell_type": "code",
   "execution_count": 6,
   "metadata": {},
   "outputs": [
    {
     "name": "stdout",
     "output_type": "stream",
     "text": [
      "第0周期，第(0/938)个撮，训练误差：85.48, 校验误差：96.75, 准确率：0.90\n",
      "第0周期，第(100/938)个撮，训练误差：45.34, 校验误差：16.21, 准确率：5.56\n",
      "第0周期，第(200/938)个撮，训练误差：25.63, 校验误差：5.10, 准确率：24.12\n",
      "第0周期，第(300/938)个撮，训练误差：18.09, 校验误差：4.05, 准确率：22.72\n",
      "第0周期，第(400/938)个撮，训练误差：14.22, 校验误差：1.98, 准确率：36.76\n",
      "第0周期，第(500/938)个撮，训练误差：11.82, 校验误差：2.49, 准确率：31.94\n",
      "第0周期，第(600/938)个撮，训练误差：10.21, 校验误差：2.42, 准确率：34.86\n",
      "第0周期，第(700/938)个撮，训练误差：9.04, 校验误差：1.37, 准确率：46.48\n",
      "第0周期，第(800/938)个撮，训练误差：8.13, 校验误差：2.05, 准确率：41.98\n",
      "第0周期，第(900/938)个撮，训练误差：7.42, 校验误差：1.35, 准确率：47.08\n",
      "第1周期，第(0/938)个撮，训练误差：1.87, 校验误差：2.30, 准确率：35.16\n",
      "第1周期，第(100/938)个撮，训练误差：1.60, 校验误差：1.15, 准确率：52.74\n",
      "第1周期，第(200/938)个撮，训练误差：1.51, 校验误差：1.07, 准确率：55.38\n",
      "第1周期，第(300/938)个撮，训练误差：1.48, 校验误差：1.55, 准确率：51.74\n",
      "第1周期，第(400/938)个撮，训练误差：1.46, 校验误差：1.01, 准确率：58.06\n",
      "第1周期，第(500/938)个撮，训练误差：1.43, 校验误差：0.92, 准确率：62.56\n",
      "第1周期，第(600/938)个撮，训练误差：1.41, 校验误差：0.92, 准确率：62.98\n",
      "第1周期，第(700/938)个撮，训练误差：1.39, 校验误差：1.05, 准确率：61.04\n",
      "第1周期，第(800/938)个撮，训练误差：1.38, 校验误差：1.00, 准确率：55.20\n",
      "第1周期，第(900/938)个撮，训练误差：1.37, 校验误差：0.97, 准确率：63.22\n",
      "第2周期，第(0/938)个撮，训练误差：0.98, 校验误差：0.85, 准确率：67.10\n",
      "第2周期，第(100/938)个撮，训练误差：1.29, 校验误差：0.87, 准确率：57.04\n",
      "第2周期，第(200/938)个撮，训练误差：1.21, 校验误差：0.91, 准确率：64.60\n",
      "第2周期，第(300/938)个撮，训练误差：1.19, 校验误差：0.88, 准确率：62.06\n",
      "第2周期，第(400/938)个撮，训练误差：1.17, 校验误差：0.90, 准确率：63.04\n",
      "第2周期，第(500/938)个撮，训练误差：1.15, 校验误差：0.97, 准确率：61.24\n",
      "第2周期，第(600/938)个撮，训练误差：1.13, 校验误差：0.79, 准确率：66.14\n",
      "第2周期，第(700/938)个撮，训练误差：1.13, 校验误差：0.76, 准确率：68.98\n",
      "第2周期，第(800/938)个撮，训练误差：1.12, 校验误差：0.68, 准确率：71.70\n",
      "第2周期，第(900/938)个撮，训练误差：1.11, 校验误差：0.78, 准确率：66.20\n",
      "第3周期，第(0/938)个撮，训练误差：1.19, 校验误差：0.79, 准确率：73.10\n",
      "第3周期，第(100/938)个撮，训练误差：0.79, 校验误差：0.72, 准确率：67.48\n",
      "第3周期，第(200/938)个撮，训练误差：0.88, 校验误差：0.64, 准确率：74.70\n",
      "第3周期，第(300/938)个撮，训练误差：0.89, 校验误差：0.59, 准确率：76.00\n",
      "第3周期，第(400/938)个撮，训练误差：0.91, 校验误差：0.69, 准确率：69.72\n",
      "第3周期，第(500/938)个撮，训练误差：0.91, 校验误差：0.62, 准确率：76.80\n",
      "第3周期，第(600/938)个撮，训练误差：0.91, 校验误差：0.72, 准确率：69.98\n",
      "第3周期，第(700/938)个撮，训练误差：0.91, 校验误差：0.61, 准确率：73.74\n",
      "第3周期，第(800/938)个撮，训练误差：0.90, 校验误差：0.69, 准确率：70.56\n",
      "第3周期，第(900/938)个撮，训练误差：0.90, 校验误差：0.69, 准确率：68.48\n",
      "第4周期，第(0/938)个撮，训练误差：0.73, 校验误差：0.76, 准确率：70.66\n",
      "第4周期，第(100/938)个撮，训练误差：0.79, 校验误差：0.56, 准确率：78.48\n",
      "第4周期，第(200/938)个撮，训练误差：0.77, 校验误差：0.56, 准确率：77.08\n",
      "第4周期，第(300/938)个撮，训练误差：0.79, 校验误差：0.67, 准确率：76.18\n",
      "第4周期，第(400/938)个撮，训练误差：0.77, 校验误差：0.52, 准确率：81.76\n",
      "第4周期，第(500/938)个撮，训练误差：0.78, 校验误差：0.52, 准确率：80.16\n",
      "第4周期，第(600/938)个撮，训练误差：0.78, 校验误差：0.51, 准确率：81.46\n",
      "第4周期，第(700/938)个撮，训练误差：0.80, 校验误差：0.59, 准确率：77.88\n",
      "第4周期，第(800/938)个撮，训练误差：0.80, 校验误差：0.58, 准确率：79.40\n",
      "第4周期，第(900/938)个撮，训练误差：0.80, 校验误差：0.57, 准确率：79.82\n",
      "第5周期，第(0/938)个撮，训练误差：0.67, 校验误差：0.50, 准确率：81.88\n",
      "第5周期，第(100/938)个撮，训练误差：0.73, 校验误差：0.55, 准确率：77.58\n",
      "第5周期，第(200/938)个撮，训练误差：0.72, 校验误差：0.64, 准确率：76.56\n",
      "第5周期，第(300/938)个撮，训练误差：0.72, 校验误差：0.57, 准确率：78.58\n",
      "第5周期，第(400/938)个撮，训练误差：0.70, 校验误差：0.47, 准确率：84.66\n",
      "第5周期，第(500/938)个撮，训练误差：0.71, 校验误差：0.51, 准确率：82.92\n",
      "第5周期，第(600/938)个撮，训练误差：0.72, 校验误差：0.55, 准确率：82.56\n",
      "第5周期，第(700/938)个撮，训练误差：0.72, 校验误差：0.52, 准确率：82.42\n",
      "第5周期，第(800/938)个撮，训练误差：0.73, 校验误差：0.72, 准确率：71.48\n",
      "第5周期，第(900/938)个撮，训练误差：0.73, 校验误差：0.59, 准确率：83.40\n",
      "第6周期，第(0/938)个撮，训练误差：0.21, 校验误差：0.49, 准确率：82.50\n",
      "第6周期，第(100/938)个撮，训练误差：0.68, 校验误差：0.49, 准确率：82.42\n",
      "第6周期，第(200/938)个撮，训练误差：0.68, 校验误差：0.48, 准确率：84.04\n",
      "第6周期，第(300/938)个撮，训练误差：0.66, 校验误差：0.47, 准确率：84.16\n",
      "第6周期，第(400/938)个撮，训练误差：0.65, 校验误差：0.47, 准确率：82.70\n",
      "第6周期，第(500/938)个撮，训练误差：0.65, 校验误差：0.50, 准确率：83.36\n",
      "第6周期，第(600/938)个撮，训练误差：0.65, 校验误差：0.53, 准确率：79.14\n",
      "第6周期，第(700/938)个撮，训练误差：0.64, 校验误差：0.42, 准确率：84.64\n",
      "第6周期，第(800/938)个撮，训练误差：0.64, 校验误差：0.42, 准确率：85.86\n",
      "第6周期，第(900/938)个撮，训练误差：0.64, 校验误差：0.44, 准确率：85.06\n",
      "第7周期，第(0/938)个撮，训练误差：1.04, 校验误差：0.45, 准确率：84.98\n",
      "第7周期，第(100/938)个撮，训练误差：0.66, 校验误差：0.50, 准确率：81.26\n",
      "第7周期，第(200/938)个撮，训练误差：0.64, 校验误差：0.43, 准确率：84.22\n",
      "第7周期，第(300/938)个撮，训练误差：0.64, 校验误差：0.46, 准确率：84.16\n",
      "第7周期，第(400/938)个撮，训练误差：0.62, 校验误差：0.42, 准确率：85.00\n",
      "第7周期，第(500/938)个撮，训练误差：0.61, 校验误差：0.41, 准确率：86.82\n",
      "第7周期，第(600/938)个撮，训练误差：0.61, 校验误差：0.44, 准确率：84.38\n",
      "第7周期，第(700/938)个撮，训练误差：0.62, 校验误差：0.46, 准确率：86.24\n",
      "第7周期，第(800/938)个撮，训练误差：0.61, 校验误差：0.41, 准确率：87.04\n",
      "第7周期，第(900/938)个撮，训练误差：0.61, 校验误差：0.42, 准确率：85.84\n",
      "第8周期，第(0/938)个撮，训练误差：0.30, 校验误差：0.42, 准确率：87.06\n",
      "第8周期，第(100/938)个撮，训练误差：0.56, 校验误差：0.45, 准确率：80.62\n",
      "第8周期，第(200/938)个撮，训练误差：0.55, 校验误差：0.44, 准确率：85.24\n",
      "第8周期，第(300/938)个撮，训练误差：0.56, 校验误差：0.39, 准确率：87.62\n",
      "第8周期，第(400/938)个撮，训练误差：0.55, 校验误差：0.54, 准确率：80.88\n",
      "第8周期，第(500/938)个撮，训练误差：0.56, 校验误差：0.41, 准确率：87.64\n",
      "第8周期，第(600/938)个撮，训练误差：0.58, 校验误差：0.42, 准确率：85.06\n",
      "第8周期，第(700/938)个撮，训练误差：0.57, 校验误差：0.41, 准确率：86.92\n",
      "第8周期，第(800/938)个撮，训练误差：0.57, 校验误差：0.36, 准确率：88.42\n",
      "第8周期，第(900/938)个撮，训练误差：0.57, 校验误差：0.39, 准确率：85.66\n",
      "第9周期，第(0/938)个撮，训练误差：0.23, 校验误差：0.41, 准确率：86.60\n",
      "第9周期，第(100/938)个撮，训练误差：0.52, 校验误差：0.38, 准确率：87.66\n",
      "第9周期，第(200/938)个撮，训练误差：0.52, 校验误差：0.43, 准确率：86.26\n",
      "第9周期，第(300/938)个撮，训练误差：0.52, 校验误差：0.43, 准确率：87.08\n",
      "第9周期，第(400/938)个撮，训练误差：0.52, 校验误差：0.38, 准确率：86.28\n",
      "第9周期，第(500/938)个撮，训练误差：0.53, 校验误差：0.40, 准确率：87.22\n",
      "第9周期，第(600/938)个撮，训练误差：0.53, 校验误差：0.39, 准确率：87.90\n",
      "第9周期，第(700/938)个撮，训练误差：0.53, 校验误差：0.41, 准确率：86.60\n",
      "第9周期，第(800/938)个撮，训练误差：0.53, 校验误差：0.40, 准确率：87.68\n",
      "第9周期，第(900/938)个撮，训练误差：0.53, 校验误差：0.38, 准确率：87.54\n",
      "第10周期，第(0/938)个撮，训练误差：0.31, 校验误差：0.54, 准确率：83.78\n",
      "第10周期，第(100/938)个撮，训练误差：0.49, 校验误差：0.43, 准确率：86.84\n",
      "第10周期，第(200/938)个撮，训练误差：0.49, 校验误差：0.42, 准确率：85.68\n",
      "第10周期，第(300/938)个撮，训练误差：0.49, 校验误差：0.38, 准确率：86.46\n",
      "第10周期，第(400/938)个撮，训练误差：0.49, 校验误差：0.44, 准确率：84.08\n",
      "第10周期，第(500/938)个撮，训练误差：0.49, 校验误差：0.53, 准确率：77.44\n",
      "第10周期，第(600/938)个撮，训练误差：0.48, 校验误差：0.43, 准确率：86.62\n",
      "第10周期，第(700/938)个撮，训练误差：0.48, 校验误差：0.46, 准确率：85.02\n",
      "第10周期，第(800/938)个撮，训练误差：0.48, 校验误差：0.40, 准确率：89.14\n",
      "第10周期，第(900/938)个撮，训练误差：0.48, 校验误差：0.36, 准确率：88.52\n",
      "第11周期，第(0/938)个撮，训练误差：0.36, 校验误差：0.44, 准确率：85.52\n",
      "第11周期，第(100/938)个撮，训练误差：0.48, 校验误差：0.40, 准确率：88.66\n",
      "第11周期，第(200/938)个撮，训练误差：0.47, 校验误差：0.45, 准确率：85.46\n",
      "第11周期，第(300/938)个撮，训练误差：0.47, 校验误差：0.48, 准确率：85.50\n",
      "第11周期，第(400/938)个撮，训练误差：0.48, 校验误差：0.37, 准确率：89.24\n",
      "第11周期，第(500/938)个撮，训练误差：0.48, 校验误差：0.44, 准确率：82.12\n",
      "第11周期，第(600/938)个撮，训练误差：0.48, 校验误差：0.35, 准确率：89.88\n",
      "第11周期，第(700/938)个撮，训练误差：0.48, 校验误差：0.43, 准确率：87.26\n",
      "第11周期，第(800/938)个撮，训练误差：0.48, 校验误差：0.41, 准确率：83.30\n",
      "第11周期，第(900/938)个撮，训练误差：0.48, 校验误差：0.34, 准确率：89.54\n",
      "第12周期，第(0/938)个撮，训练误差：0.70, 校验误差：0.42, 准确率：87.12\n",
      "第12周期，第(100/938)个撮，训练误差：0.45, 校验误差：0.36, 准确率：89.74\n",
      "第12周期，第(200/938)个撮，训练误差：0.45, 校验误差：0.35, 准确率：90.32\n",
      "第12周期，第(300/938)个撮，训练误差：0.46, 校验误差：0.37, 准确率：89.70\n",
      "第12周期，第(400/938)个撮，训练误差：0.45, 校验误差：0.34, 准确率：90.00\n",
      "第12周期，第(500/938)个撮，训练误差：0.45, 校验误差：0.36, 准确率：89.04\n",
      "第12周期，第(600/938)个撮，训练误差：0.44, 校验误差：0.37, 准确率：89.20\n",
      "第12周期，第(700/938)个撮，训练误差：0.44, 校验误差：0.36, 准确率：87.26\n",
      "第12周期，第(800/938)个撮，训练误差：0.45, 校验误差：0.44, 准确率：87.36\n",
      "第12周期，第(900/938)个撮，训练误差：0.45, 校验误差：0.38, 准确率：89.94\n",
      "第13周期，第(0/938)个撮，训练误差：0.32, 校验误差：0.41, 准确率：87.32\n",
      "第13周期，第(100/938)个撮，训练误差：0.43, 校验误差：0.38, 准确率：89.94\n",
      "第13周期，第(200/938)个撮，训练误差：0.42, 校验误差：0.40, 准确率：89.92\n",
      "第13周期，第(300/938)个撮，训练误差：0.42, 校验误差：0.37, 准确率：89.26\n",
      "第13周期，第(400/938)个撮，训练误差：0.41, 校验误差：0.38, 准确率：87.34\n",
      "第13周期，第(500/938)个撮，训练误差：0.41, 校验误差：0.39, 准确率：89.72\n",
      "第13周期，第(600/938)个撮，训练误差：0.41, 校验误差：0.39, 准确率：87.86\n",
      "第13周期，第(700/938)个撮，训练误差：0.41, 校验误差：0.40, 准确率：85.82\n",
      "第13周期，第(800/938)个撮，训练误差：0.42, 校验误差：0.47, 准确率：86.24\n",
      "第13周期，第(900/938)个撮，训练误差：0.42, 校验误差：0.40, 准确率：89.86\n",
      "第14周期，第(0/938)个撮，训练误差：0.34, 校验误差：0.41, 准确率：86.42\n",
      "第14周期，第(100/938)个撮，训练误差：0.41, 校验误差：0.37, 准确率：89.82\n",
      "第14周期，第(200/938)个撮，训练误差：0.41, 校验误差：0.37, 准确率：89.30\n",
      "第14周期，第(300/938)个撮，训练误差：0.42, 校验误差：0.38, 准确率：90.14\n",
      "第14周期，第(400/938)个撮，训练误差：0.43, 校验误差：0.42, 准确率：89.90\n",
      "第14周期，第(500/938)个撮，训练误差：0.43, 校验误差：0.42, 准确率：88.58\n",
      "第14周期，第(600/938)个撮，训练误差：0.43, 校验误差：0.42, 准确率：87.92\n",
      "第14周期，第(700/938)个撮，训练误差：0.42, 校验误差：0.40, 准确率：89.28\n",
      "第14周期，第(800/938)个撮，训练误差：0.42, 校验误差：0.38, 准确率：90.66\n",
      "第14周期，第(900/938)个撮，训练误差：0.42, 校验误差：0.40, 准确率：86.28\n",
      "第15周期，第(0/938)个撮，训练误差：0.56, 校验误差：0.38, 准确率：90.04\n",
      "第15周期，第(100/938)个撮，训练误差：0.41, 校验误差：0.32, 准确率：91.40\n",
      "第15周期，第(200/938)个撮，训练误差：0.39, 校验误差：0.33, 准确率：90.76\n",
      "第15周期，第(300/938)个撮，训练误差：0.38, 校验误差：0.38, 准确率：87.80\n",
      "第15周期，第(400/938)个撮，训练误差：0.39, 校验误差：0.37, 准确率：89.92\n",
      "第15周期，第(500/938)个撮，训练误差：0.39, 校验误差：0.35, 准确率：89.88\n",
      "第15周期，第(600/938)个撮，训练误差：0.40, 校验误差：0.34, 准确率：88.28\n",
      "第15周期，第(700/938)个撮，训练误差：0.40, 校验误差：0.38, 准确率：90.72\n",
      "第15周期，第(800/938)个撮，训练误差：0.40, 校验误差：0.35, 准确率：90.46\n",
      "第15周期，第(900/938)个撮，训练误差：0.40, 校验误差：0.35, 准确率：90.66\n",
      "第16周期，第(0/938)个撮，训练误差：0.42, 校验误差：0.36, 准确率：90.18\n",
      "第16周期，第(100/938)个撮，训练误差：0.41, 校验误差：0.39, 准确率：84.58\n",
      "第16周期，第(200/938)个撮，训练误差：0.38, 校验误差：0.32, 准确率：90.50\n",
      "第16周期，第(300/938)个撮，训练误差：0.37, 校验误差：0.37, 准确率：89.48\n"
     ]
    },
    {
     "name": "stdout",
     "output_type": "stream",
     "text": [
      "第16周期，第(400/938)个撮，训练误差：0.36, 校验误差：0.35, 准确率：89.80\n",
      "第16周期，第(500/938)个撮，训练误差：0.36, 校验误差：0.36, 准确率：89.20\n",
      "第16周期，第(600/938)个撮，训练误差：0.37, 校验误差：0.34, 准确率：90.42\n",
      "第16周期，第(700/938)个撮，训练误差：0.38, 校验误差：0.44, 准确率：85.22\n",
      "第16周期，第(800/938)个撮，训练误差：0.38, 校验误差：0.37, 准确率：90.58\n",
      "第16周期，第(900/938)个撮，训练误差：0.38, 校验误差：0.33, 准确率：91.10\n",
      "第17周期，第(0/938)个撮，训练误差：0.31, 校验误差：0.35, 准确率：90.48\n",
      "第17周期，第(100/938)个撮，训练误差：0.35, 校验误差：0.36, 准确率：90.20\n",
      "第17周期，第(200/938)个撮，训练误差：0.38, 校验误差：0.37, 准确率：89.50\n",
      "第17周期，第(300/938)个撮，训练误差：0.38, 校验误差：0.35, 准确率：88.38\n",
      "第17周期，第(400/938)个撮，训练误差：0.37, 校验误差：0.33, 准确率：90.98\n",
      "第17周期，第(500/938)个撮，训练误差：0.37, 校验误差：0.37, 准确率：90.78\n",
      "第17周期，第(600/938)个撮，训练误差：0.38, 校验误差：0.35, 准确率：91.80\n",
      "第17周期，第(700/938)个撮，训练误差：0.38, 校验误差：0.33, 准确率：91.20\n",
      "第17周期，第(800/938)个撮，训练误差：0.38, 校验误差：0.34, 准确率：89.20\n",
      "第17周期，第(900/938)个撮，训练误差：0.37, 校验误差：0.37, 准确率：89.68\n",
      "第18周期，第(0/938)个撮，训练误差：0.36, 校验误差：0.42, 准确率：89.90\n",
      "第18周期，第(100/938)个撮，训练误差：0.33, 校验误差：0.37, 准确率：90.56\n",
      "第18周期，第(200/938)个撮，训练误差：0.35, 校验误差：0.34, 准确率：91.38\n",
      "第18周期，第(300/938)个撮，训练误差：0.34, 校验误差：0.31, 准确率：91.24\n",
      "第18周期，第(400/938)个撮，训练误差：0.34, 校验误差：0.38, 准确率：89.72\n",
      "第18周期，第(500/938)个撮，训练误差：0.34, 校验误差：0.39, 准确率：86.74\n",
      "第18周期，第(600/938)个撮，训练误差：0.35, 校验误差：0.37, 准确率：90.98\n",
      "第18周期，第(700/938)个撮，训练误差：0.35, 校验误差：0.41, 准确率：82.36\n",
      "第18周期，第(800/938)个撮，训练误差：0.35, 校验误差：0.36, 准确率：90.98\n",
      "第18周期，第(900/938)个撮，训练误差：0.35, 校验误差：0.36, 准确率：91.44\n",
      "第19周期，第(0/938)个撮，训练误差：0.33, 校验误差：0.38, 准确率：90.92\n",
      "第19周期，第(100/938)个撮，训练误差：0.33, 校验误差：0.32, 准确率：91.82\n",
      "第19周期，第(200/938)个撮，训练误差：0.34, 校验误差：0.36, 准确率：91.58\n",
      "第19周期，第(300/938)个撮，训练误差：0.34, 校验误差：0.36, 准确率：89.08\n",
      "第19周期，第(400/938)个撮，训练误差：0.34, 校验误差：0.38, 准确率：90.06\n",
      "第19周期，第(500/938)个撮，训练误差：0.34, 校验误差：0.36, 准确率：91.84\n",
      "第19周期，第(600/938)个撮，训练误差：0.34, 校验误差：0.42, 准确率：90.38\n",
      "第19周期，第(700/938)个撮，训练误差：0.35, 校验误差：0.37, 准确率：90.10\n",
      "第19周期，第(800/938)个撮，训练误差：0.35, 校验误差：0.38, 准确率：91.22\n",
      "第19周期，第(900/938)个撮，训练误差：0.35, 校验误差：0.35, 准确率：90.54\n",
      "第20周期，第(0/938)个撮，训练误差：0.43, 校验误差：0.35, 准确率：90.12\n",
      "第20周期，第(100/938)个撮，训练误差：0.35, 校验误差：0.39, 准确率：89.52\n",
      "第20周期，第(200/938)个撮，训练误差：0.33, 校验误差：0.36, 准确率：89.46\n",
      "第20周期，第(300/938)个撮，训练误差：0.33, 校验误差：0.32, 准确率：92.16\n",
      "第20周期，第(400/938)个撮，训练误差：0.32, 校验误差：0.32, 准确率：91.40\n",
      "第20周期，第(500/938)个撮，训练误差：0.32, 校验误差：0.30, 准确率：92.00\n",
      "第20周期，第(600/938)个撮，训练误差：0.32, 校验误差：0.36, 准确率：91.32\n",
      "第20周期，第(700/938)个撮，训练误差：0.33, 校验误差：0.33, 准确率：91.70\n",
      "第20周期，第(800/938)个撮，训练误差：0.33, 校验误差：0.35, 准确率：90.36\n",
      "第20周期，第(900/938)个撮，训练误差：0.33, 校验误差：0.32, 准确率：91.64\n",
      "第21周期，第(0/938)个撮，训练误差：0.29, 校验误差：0.39, 准确率：89.46\n",
      "第21周期，第(100/938)个撮，训练误差：0.35, 校验误差：0.34, 准确率：92.34\n",
      "第21周期，第(200/938)个撮，训练误差：0.35, 校验误差：0.38, 准确率：84.54\n",
      "第21周期，第(300/938)个撮，训练误差：0.34, 校验误差：0.35, 准确率：90.92\n",
      "第21周期，第(400/938)个撮，训练误差：0.34, 校验误差：0.37, 准确率：90.70\n",
      "第21周期，第(500/938)个撮，训练误差：0.34, 校验误差：0.32, 准确率：91.54\n",
      "第21周期，第(600/938)个撮，训练误差：0.34, 校验误差：0.39, 准确率：88.90\n",
      "第21周期，第(700/938)个撮，训练误差：0.33, 校验误差：0.35, 准确率：91.04\n",
      "第21周期，第(800/938)个撮，训练误差：0.34, 校验误差：0.37, 准确率：91.50\n",
      "第21周期，第(900/938)个撮，训练误差：0.34, 校验误差：0.34, 准确率：91.52\n",
      "第22周期，第(0/938)个撮，训练误差：0.26, 校验误差：0.34, 准确率：91.36\n",
      "第22周期，第(100/938)个撮，训练误差：0.31, 校验误差：0.32, 准确率：90.64\n",
      "第22周期，第(200/938)个撮，训练误差：0.31, 校验误差：0.37, 准确率：88.74\n",
      "第22周期，第(300/938)个撮，训练误差：0.31, 校验误差：0.33, 准确率：91.16\n",
      "第22周期，第(400/938)个撮，训练误差：0.31, 校验误差：0.31, 准确率：92.34\n",
      "第22周期，第(500/938)个撮，训练误差：0.32, 校验误差：0.36, 准确率：91.76\n",
      "第22周期，第(600/938)个撮，训练误差：0.32, 校验误差：0.33, 准确率：91.44\n",
      "第22周期，第(700/938)个撮，训练误差：0.32, 校验误差：0.33, 准确率：91.98\n",
      "第22周期，第(800/938)个撮，训练误差：0.31, 校验误差：0.33, 准确率：92.22\n",
      "第22周期，第(900/938)个撮，训练误差：0.31, 校验误差：0.32, 准确率：92.46\n",
      "第23周期，第(0/938)个撮，训练误差：0.30, 校验误差：0.31, 准确率：92.20\n",
      "第23周期，第(100/938)个撮，训练误差：0.27, 校验误差：0.33, 准确率：92.36\n",
      "第23周期，第(200/938)个撮，训练误差：0.29, 校验误差：0.34, 准确率：91.70\n",
      "第23周期，第(300/938)个撮，训练误差：0.29, 校验误差：0.34, 准确率：90.96\n",
      "第23周期，第(400/938)个撮，训练误差：0.29, 校验误差：0.42, 准确率：88.08\n",
      "第23周期，第(500/938)个撮，训练误差：0.29, 校验误差：0.32, 准确率：92.44\n",
      "第23周期，第(600/938)个撮，训练误差：0.29, 校验误差：0.35, 准确率：90.90\n",
      "第23周期，第(700/938)个撮，训练误差：0.29, 校验误差：0.30, 准确率：92.82\n",
      "第23周期，第(800/938)个撮，训练误差：0.29, 校验误差：0.33, 准确率：91.62\n",
      "第23周期，第(900/938)个撮，训练误差：0.29, 校验误差：0.33, 准确率：91.90\n",
      "第24周期，第(0/938)个撮，训练误差：0.65, 校验误差：0.37, 准确率：90.16\n",
      "第24周期，第(100/938)个撮，训练误差：0.28, 校验误差：0.33, 准确率：91.82\n",
      "第24周期，第(200/938)个撮，训练误差：0.28, 校验误差：0.35, 准确率：91.18\n",
      "第24周期，第(300/938)个撮，训练误差：0.29, 校验误差：0.39, 准确率：88.66\n",
      "第24周期，第(400/938)个撮，训练误差：0.29, 校验误差：0.32, 准确率：92.26\n",
      "第24周期，第(500/938)个撮，训练误差：0.30, 校验误差：0.40, 准确率：91.16\n",
      "第24周期，第(600/938)个撮，训练误差：0.30, 校验误差：0.34, 准确率：91.10\n",
      "第24周期，第(700/938)个撮，训练误差：0.30, 校验误差：0.31, 准确率：92.54\n",
      "第24周期，第(800/938)个撮，训练误差：0.30, 校验误差：0.32, 准确率：91.52\n",
      "第24周期，第(900/938)个撮，训练误差：0.30, 校验误差：0.33, 准确率：92.14\n",
      "第25周期，第(0/938)个撮，训练误差：0.20, 校验误差：0.36, 准确率：90.42\n",
      "第25周期，第(100/938)个撮，训练误差：0.30, 校验误差：0.31, 准确率：92.98\n",
      "第25周期，第(200/938)个撮，训练误差：0.29, 校验误差：0.35, 准确率：91.38\n",
      "第25周期，第(300/938)个撮，训练误差：0.29, 校验误差：0.33, 准确率：91.04\n",
      "第25周期，第(400/938)个撮，训练误差：0.29, 校验误差：0.38, 准确率：90.94\n",
      "第25周期，第(500/938)个撮，训练误差：0.29, 校验误差：0.36, 准确率：92.10\n",
      "第25周期，第(600/938)个撮，训练误差：0.30, 校验误差：0.39, 准确率：91.60\n",
      "第25周期，第(700/938)个撮，训练误差：0.30, 校验误差：0.37, 准确率：92.36\n",
      "第25周期，第(800/938)个撮，训练误差：0.30, 校验误差：0.42, 准确率：91.92\n",
      "第25周期，第(900/938)个撮，训练误差：0.30, 校验误差：0.39, 准确率：89.86\n",
      "第26周期，第(0/938)个撮，训练误差：0.41, 校验误差：0.34, 准确率：91.64\n",
      "第26周期，第(100/938)个撮，训练误差：0.29, 校验误差：0.40, 准确率：89.26\n",
      "第26周期，第(200/938)个撮，训练误差：0.29, 校验误差：0.37, 准确率：89.12\n",
      "第26周期，第(300/938)个撮，训练误差：0.30, 校验误差：0.37, 准确率：88.76\n",
      "第26周期，第(400/938)个撮，训练误差：0.29, 校验误差：0.35, 准确率：92.40\n",
      "第26周期，第(500/938)个撮，训练误差：0.30, 校验误差：0.37, 准确率：92.32\n",
      "第26周期，第(600/938)个撮，训练误差：0.30, 校验误差：0.42, 准确率：92.04\n",
      "第26周期，第(700/938)个撮，训练误差：0.30, 校验误差：0.40, 准确率：91.02\n",
      "第26周期，第(800/938)个撮，训练误差：0.30, 校验误差：0.32, 准确率：91.96\n",
      "第26周期，第(900/938)个撮，训练误差：0.30, 校验误差：0.35, 准确率：90.74\n",
      "第27周期，第(0/938)个撮，训练误差：0.26, 校验误差：0.32, 准确率：92.54\n",
      "第27周期，第(100/938)个撮，训练误差：0.27, 校验误差：0.28, 准确率：92.48\n",
      "第27周期，第(200/938)个撮，训练误差：0.28, 校验误差：0.36, 准确率：90.94\n",
      "第27周期，第(300/938)个撮，训练误差：0.27, 校验误差：0.37, 准确率：91.58\n",
      "第27周期，第(400/938)个撮，训练误差：0.28, 校验误差：0.31, 准确率：92.64\n",
      "第27周期，第(500/938)个撮，训练误差：0.27, 校验误差：0.32, 准确率：92.04\n",
      "第27周期，第(600/938)个撮，训练误差：0.27, 校验误差：0.33, 准确率：92.38\n",
      "第27周期，第(700/938)个撮，训练误差：0.27, 校验误差：0.31, 准确率：92.80\n",
      "第27周期，第(800/938)个撮，训练误差：0.27, 校验误差：0.32, 准确率：92.72\n",
      "第27周期，第(900/938)个撮，训练误差：0.28, 校验误差：0.35, 准确率：89.78\n",
      "第28周期，第(0/938)个撮，训练误差：0.27, 校验误差：0.35, 准确率：91.86\n",
      "第28周期，第(100/938)个撮，训练误差：0.27, 校验误差：0.34, 准确率：92.62\n",
      "第28周期，第(200/938)个撮，训练误差：0.27, 校验误差：0.33, 准确率：92.16\n",
      "第28周期，第(300/938)个撮，训练误差：0.28, 校验误差：0.36, 准确率：90.88\n",
      "第28周期，第(400/938)个撮，训练误差：0.28, 校验误差：0.36, 准确率：92.40\n",
      "第28周期，第(500/938)个撮，训练误差：0.27, 校验误差：0.33, 准确率：92.20\n",
      "第28周期，第(600/938)个撮，训练误差：0.28, 校验误差：0.37, 准确率：91.38\n",
      "第28周期，第(700/938)个撮，训练误差：0.28, 校验误差：0.35, 准确率：91.98\n",
      "第28周期，第(800/938)个撮，训练误差：0.28, 校验误差：0.40, 准确率：88.02\n",
      "第28周期，第(900/938)个撮，训练误差：0.28, 校验误差：0.35, 准确率：91.44\n",
      "第29周期，第(0/938)个撮，训练误差：0.20, 校验误差：0.30, 准确率：92.84\n",
      "第29周期，第(100/938)个撮，训练误差：0.27, 校验误差：0.29, 准确率：92.66\n",
      "第29周期，第(200/938)个撮，训练误差：0.27, 校验误差：0.34, 准确率：91.94\n",
      "第29周期，第(300/938)个撮，训练误差：0.27, 校验误差：0.31, 准确率：92.80\n",
      "第29周期，第(400/938)个撮，训练误差：0.28, 校验误差：0.40, 准确率：87.30\n",
      "第29周期，第(500/938)个撮，训练误差：0.28, 校验误差：0.36, 准确率：92.28\n",
      "第29周期，第(600/938)个撮，训练误差：0.27, 校验误差：0.34, 准确率：92.14\n",
      "第29周期，第(700/938)个撮，训练误差：0.28, 校验误差：0.32, 准确率：92.58\n",
      "第29周期，第(800/938)个撮，训练误差：0.28, 校验误差：0.33, 准确率：92.56\n",
      "第29周期，第(900/938)个撮，训练误差：0.27, 校验误差：0.33, 准确率：92.82\n",
      "CPU times: user 9min 23s, sys: 7.83 s, total: 9min 31s\n",
      "Wall time: 9min 30s\n"
     ]
    }
   ],
   "source": [
    "%%time\n",
    "# 开始训练循环，本部分代码需要补齐\n",
    "records = []\n",
    "if USE_CUDA:\n",
    "    for epoch in range(num_epochs):\n",
    "        losses = []\n",
    "        # 一个关键技术难点是对两个数据加载器进行读取成对儿的数据。我们的办法是通过zip命令，将loader1和2并列在一起，一对一对的读取数据\n",
    "        for idx, data in enumerate(zip(train_loader1, train_loader2)):\n",
    "            ((x1, y1), (x2, y2)) = data\n",
    "            optimizer.zero_grad()\n",
    "            net.train()\n",
    "            outputs = net(Variable(x1).cuda(), Variable(x2).cuda())\n",
    "            labels = y1 + y2\n",
    "            loss = criterion(outputs, Variable(labels.type(torch.FloatTensor)).cuda())\n",
    "            loss.backward()\n",
    "            optimizer.step()\n",
    "            losses.append(loss.data[0])\n",
    "\n",
    "            if idx % 100 == 0:\n",
    "                net.eval()\n",
    "                val_losses = []\n",
    "                val_rights = []\n",
    "                for v_idx, v_data in enumerate(zip(val_loader1, val_loader2)):\n",
    "                    ((v_x1, v_y1), (v_x2, v_y2)) = v_data\n",
    "                    v_outputs = net(Variable(v_x1).cuda(), Variable(v_x2).cuda()) \n",
    "                    v_labels = v_y1 + v_y2\n",
    "                    v_loss = criterion(v_outputs, Variable(v_labels.type(torch.FloatTensor)).cuda())\n",
    "                    val_losses.append(v_loss.data[0])\n",
    "                    right = rightness(v_outputs, Variable(v_labels))\n",
    "                    val_rights.append(right)\n",
    "\n",
    "\n",
    "\n",
    "                val_r = (sum([tup[0].data[0] for tup in val_rights]), sum([tup[1] for tup in val_rights]))\n",
    "\n",
    "                right_ratio = 100.0 * val_r[0] / val_r[1]\n",
    "\n",
    "                #每间隔一定周期就打印一下训练集、校验集的准确率结果\n",
    "                print('第{}周期，第({}/{})个撮，训练误差：{:.2f}, 校验误差：{:.2f}, 准确率：{:.2f}'.format(\n",
    "                    epoch, idx, len(train_loader1),\n",
    "                    np.mean(losses), np.mean(val_losses), right_ratio))\n",
    "                records.append([np.mean(losses), np.mean(val_losses), right_ratio])\n",
    "else:\n",
    "    for epoch in range(num_epochs):\n",
    "        losses = []\n",
    "        # 一个关键技术难点是对两个数据加载器进行读取成对儿的数据。我们的办法是通过zip命令，将loader1和2并列在一起，一对一对的读取数据\n",
    "        for idx, data in enumerate(zip(train_loader1, train_loader2)):\n",
    "            ((x1, y1), (x2, y2)) = data\n",
    "            optimizer.zero_grad()\n",
    "            net.train()\n",
    "            outputs = net(Variable(x1), Variable(x2))\n",
    "            labels = y1 + y2\n",
    "            loss = criterion(outputs, Variable(labels.type(torch.FloatTensor)))\n",
    "            loss.backward()\n",
    "            optimizer.step()\n",
    "            losses.append(loss.data[0])\n",
    "\n",
    "            if idx % 100 == 0:\n",
    "                net.eval()\n",
    "                val_losses = []\n",
    "                val_rights = []\n",
    "                for v_idx, v_data in enumerate(zip(val_loader1, val_loader2)):\n",
    "                    ((v_x1, v_y1), (v_x2, v_y2)) = v_data\n",
    "                    v_outputs = net(Variable(v_x1), Variable(v_x2)) \n",
    "                    v_labels = v_y1 + v_y2\n",
    "                    v_loss = criterion(v_outputs, Variable(v_labels.type(torch.FloatTensor)))\n",
    "                    val_losses.append(v_loss.data[0])\n",
    "                    right = rightness(v_outputs, Variable(v_labels))\n",
    "                    val_rights.append(right)\n",
    "\n",
    "\n",
    "\n",
    "                val_r = (sum([tup[0].data[0] for tup in val_rights]), sum([tup[1] for tup in val_rights]))\n",
    "\n",
    "                right_ratio = 100.0 * val_r[0] / val_r[1]\n",
    "\n",
    "                #每间隔一定周期就打印一下训练集、校验集的准确率结果\n",
    "                print('第{}周期，第({}/{})个撮，训练误差：{:.2f}, 校验误差：{:.2f}, 准确率：{:.2f}'.format(\n",
    "                    epoch, idx, len(train_loader1),\n",
    "                    np.mean(losses), np.mean(val_losses), right_ratio))\n",
    "                records.append([np.mean(losses), np.mean(val_losses), right_ratio])    \n",
    "            \n"
   ]
  },
  {
   "cell_type": "code",
   "execution_count": 7,
   "metadata": {},
   "outputs": [
    {
     "name": "stderr",
     "output_type": "stream",
     "text": [
      "/home/ken/anaconda3/envs/tf12/lib/python3.6/site-packages/torch/serialization.py:147: UserWarning: Couldn't retrieve source code for container of type MINSTAdder. It won't be checked for correctness upon loading.\n",
      "  \"type \" + obj.__name__ + \". It won't be checked \"\n"
     ]
    },
    {
     "name": "stdout",
     "output_type": "stream",
     "text": [
      "在测试集上的准确率是：96.86%\n"
     ]
    },
    {
     "data": {
      "image/png": "[encoded data removed]",
      "text/plain": [
       "<matplotlib.figure.Figure at 0x7f7a43f6e9b0>"
      ]
     },
     "metadata": {},
     "output_type": "display_data"
    }
   ],
   "source": [
    "# save the parameters of net\n",
    "torch.save(net, 'net_adder.pkl')\n",
    "# 在测试集上运行我们的加法机网络，并测试预测准确度\n",
    "net.eval()\n",
    "if USE_CUDA:\n",
    "    net.cpu()\n",
    "    \n",
    "vals = []\n",
    "eval_rights = []\n",
    "\n",
    "eval_samples_ind,  eval_samples_results = [], []\n",
    "rand_indicies = np.arange(len(test_indices1) // batch_size)\n",
    "np.random.shuffle(rand_indicies)\n",
    "eval_samples_ind.extend(rand_indicies[:5])\n",
    "\n",
    "for kdx, data_test in enumerate(zip(test_loader1, test_loader2)):\n",
    "    ((xt1, yt1), (xt2, yt2)) = data_test\n",
    "    xt1, xt2 = Variable(xt1), Variable(xt2)\n",
    "    labelt = Variable(yt1+yt2)\n",
    "    output_t = net(xt1, xt2)\n",
    "    loss = criterion(output_t.type(torch.FloatTensor), labelt.type(torch.FloatTensor))\n",
    "    right = rightness(output_t.data, labelt.data)\n",
    "    vals.append(right)\n",
    "    rr = right[0]\n",
    "    aa = right[1]\n",
    "    eval_rights.append(rr/float(aa))\n",
    "    if kdx in eval_samples_ind:\n",
    "        eval_samples_results.append((xt1.data.numpy(), xt2.data.numpy(), labelt.data.numpy(), \n",
    "                                     torch.round(output_t.data.view(-1)).numpy()))\n",
    "\n",
    "val_r = (sum([tup[0] for tup in vals]), sum([tup[1] for tup in vals]))\n",
    "right_rate = 100.0 * val_r[0] / val_r[1]\n",
    "\n",
    "print('在测试集上的准确率是：{:.2f}%'.format(right_rate))\n",
    "    \n",
    "plt.plot(np.arange(len(eval_rights)), eval_rights)\n",
    "plt.xlabel('batch index(test set)')\n",
    "plt.ylabel('accuracy(test set)')\n",
    "plt.show()\n",
    "            \n",
    "\n",
    "\n"
   ]
  },
  {
   "cell_type": "code",
   "execution_count": 8,
   "metadata": {},
   "outputs": [
    {
     "data": {
      "image/png": "[encoded data removed]",
      "text/plain": [
       "<matplotlib.figure.Figure at 0x7f7a43f5f5f8>"
      ]
     },
     "metadata": {},
     "output_type": "display_data"
    }
   ],
   "source": [
    "record_loss_train = [ _[0] for _ in records]\n",
    "record_loss_val = [ _[1] for _ in records]\n",
    "record_acc_val =[ _[2] for _ in records]\n",
    "\n",
    "plt.plot(np.arange(len(records))*100, record_loss_train, label='loss_train')\n",
    "plt.plot(np.arange(len(records))*100, record_loss_val, label='loss_validation')\n",
    "plt.xlabel('epoch')\n",
    "plt.ylabel('loss')\n",
    "plt.legend()\n",
    "plt.show()"
   ]
  },
  {
   "cell_type": "code",
   "execution_count": 9,
   "metadata": {},
   "outputs": [
    {
     "data": {
      "image/png": "[encoded data removed]",
      "text/plain": [
       "<matplotlib.figure.Figure at 0x7f7a43f5fe10>"
      ]
     },
     "metadata": {},
     "output_type": "display_data"
    }
   ],
   "source": [
    "plt.plot(np.arange(len(records) )*100, record_acc_val, label='acc_validation')\n",
    "plt.xlabel('epoch')\n",
    "plt.ylabel('accuray(validation)')\n",
    "plt.legend()\n",
    "plt.show()"
   ]
  },
  {
   "cell_type": "code",
   "execution_count": 12,
   "metadata": {
    "collapsed": true
   },
   "outputs": [],
   "source": [
    "#evaluation and visulization on random samples\n",
    "import random\n",
    "def evaluate_randomly():\n",
    "    ii = random.choice(eval_samples_results)\n",
    "    pick = np.random.randint(batch_size)\n",
    "    print('Input: ')\n",
    "    fig = plt.figure(figsize=(5,5)) #!!!IMPORTANT!!! for many subplots\n",
    "    print('Sum_true: ', int(ii[-2][pick]))\n",
    "    print('Sum_pred: ', int(ii[-1][pick]))\n",
    "    for j in range(2):\n",
    "        plt.subplot(1, 2, j+1)\n",
    "        plt.imshow(ii[j][pick,0,...])\n",
    "    print('----------'*4)"
   ]
  },
  {
   "cell_type": "code",
   "execution_count": 13,
   "metadata": {},
   "outputs": [
    {
     "name": "stdout",
     "output_type": "stream",
     "text": [
      "Input: \n",
      "Sum_true:  13\n",
      "Sum_pred:  13\n",
      "----------------------------------------\n"
     ]
    },
    {
     "data": {
      "image/png": "[encoded data removed]",
      "text/plain": [
       "<matplotlib.figure.Figure at 0x7f79c4ad0eb8>"
      ]
     },
     "metadata": {},
     "output_type": "display_data"
    }
   ],
   "source": [
    "evaluate_randomly()"
   ]
  },
  {
   "cell_type": "code",
   "execution_count": 14,
   "metadata": {},
   "outputs": [
    {
     "name": "stdout",
     "output_type": "stream",
     "text": [
      "Input: \n",
      "Sum_true:  14\n",
      "Sum_pred:  14\n",
      "----------------------------------------\n"
     ]
    },
    {
     "data": {
      "image/png": "[encoded data removed]",
      "text/plain": [
       "<matplotlib.figure.Figure at 0x7f79c4a70ba8>"
      ]
     },
     "metadata": {},
     "output_type": "display_data"
    }
   ],
   "source": [
    "evaluate_randomly()"
   ]
  },
  {
   "cell_type": "code",
   "execution_count": 16,
   "metadata": {},
   "outputs": [
    {
     "name": "stdout",
     "output_type": "stream",
     "text": [
      "Input: \n",
      "Sum_true:  10\n",
      "Sum_pred:  10\n",
      "----------------------------------------\n"
     ]
    },
    {
     "data": {
      "image/png": "[encoded data removed]",
      "text/plain": [
       "<matplotlib.figure.Figure at 0x7f79cc0880f0>"
      ]
     },
     "metadata": {},
     "output_type": "display_data"
    }
   ],
   "source": [
    "evaluate_randomly()"
   ]
  },
  {
   "cell_type": "code",
   "execution_count": 15,
   "metadata": {},
   "outputs": [
    {
     "name": "stdout",
     "output_type": "stream",
     "text": [
      "Input: \n",
      "Sum_true:  10\n",
      "Sum_pred:  10\n",
      "----------------------------------------\n"
     ]
    },
    {
     "data": {
      "image/png": "[encoded data removed]",
      "text/plain": [
       "<matplotlib.figure.Figure at 0x7f79c4842780>"
      ]
     },
     "metadata": {},
     "output_type": "display_data"
    }
   ],
   "source": [
    "evaluate_randomly()"
   ]
  },
  {
   "cell_type": "code",
   "execution_count": 17,
   "metadata": {},
   "outputs": [
    {
     "name": "stdout",
     "output_type": "stream",
     "text": [
      "Input: \n",
      "Sum_true:  14\n",
      "Sum_pred:  14\n",
      "----------------------------------------\n"
     ]
    },
    {
     "data": {
      "image/png": "[encoded data removed]",
      "text/plain": [
       "<matplotlib.figure.Figure at 0x7f79c4851860>"
      ]
     },
     "metadata": {},
     "output_type": "display_data"
    }
   ],
   "source": [
    "evaluate_randomly()"
   ]
  },
  {
   "cell_type": "code",
   "execution_count": null,
   "metadata": {
    "collapsed": true
   },
   "outputs": [],
   "source": []
  }
 ],
 "metadata": {
  "kernelspec": {
   "display_name": "Python 3",
   "language": "python",
   "name": "python3"
  },
  "language_info": {
   "codemirror_mode": {
    "name": "ipython",
    "version": 3
   },
   "file_extension": ".py",
   "mimetype": "text/x-python",
   "name": "python",
   "nbconvert_exporter": "python",
   "pygments_lexer": "ipython3",
   "version": "3.6.2"
  }
 },
 "nbformat": 4,
 "nbformat_minor": 2
}
