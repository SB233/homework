{
 "cells": [
  {
   "cell_type": "markdown",
   "metadata": {},
   "source": [
    "# “火炬上的深度学习\"第一次大作业\n",
    "\n",
    "在这个作业中，你需要半独立地利用人工神经网络搭建一个手写数字识别器\n",
    "\n",
    "本文件是集智AI学园http://campus.swarma.org 出品的“火炬上的深度学习”第II课的配套源代码"
   ]
  },
  {
   "cell_type": "code",
   "execution_count": 4,
   "metadata": {},
   "outputs": [],
   "source": [
    "\n",
    "\"\"\"简单的 LeNet-5类型的卷积神经网络模型，MNIST例子.\n",
    "\"\"\"\n",
    "\n",
    "#所有依赖包\n",
    "\n",
    "import gzip\n",
    "import os\n",
    "import sys\n",
    "\n",
    "import numpy as np\n",
    "from six.moves import urllib\n",
    "import torch\n",
    "from torch.autograd import Variable\n",
    "import torch.optim as optim\n",
    "\n",
    "import matplotlib.pylab as plt\n",
    "\n",
    "#定义一系列常数\n",
    "SOURCE_URL = 'http://yann.lecun.com/exdb/mnist/' #图像数据如果没下载，可以从这个地址下载\n",
    "WORK_DIRECTORY = 'data' #存储的路径名\n",
    "IMAGE_SIZE = 28 #每张图片的大小尺寸\n",
    "NUM_CHANNELS = 1  #每张图片的通道数\n",
    "PIXEL_DEPTH = 255 #像素的深度0-255\n",
    "NUM_LABELS = 10 #手写数字，一共十种\n",
    "\n",
    "%matplotlib inline\n",
    "\n"
   ]
  },
  {
   "cell_type": "markdown",
   "metadata": {},
   "source": [
    "## 是否支持GPU加速"
   ]
  },
  {
   "cell_type": "code",
   "execution_count": 5,
   "metadata": {
    "collapsed": true
   },
   "outputs": [],
   "source": [
    "USE_CUDA = torch.cuda.is_available()"
   ]
  },
  {
   "cell_type": "markdown",
   "metadata": {},
   "source": [
    "# 读取MINST图形文件"
   ]
  },
  {
   "cell_type": "code",
   "execution_count": 6,
   "metadata": {},
   "outputs": [
    {
     "name": "stdout",
     "output_type": "stream",
     "text": [
      "Extracting data/train-images-idx3-ubyte.gz\n",
      "Extracting data/train-labels-idx1-ubyte.gz\n",
      "Extracting data/t10k-images-idx3-ubyte.gz\n",
      "Extracting data/t10k-labels-idx1-ubyte.gz\n"
     ]
    },
    {
     "data": {
      "text/plain": [
       "((60000, 784), (60000,))"
      ]
     },
     "execution_count": 6,
     "metadata": {},
     "output_type": "execute_result"
    }
   ],
   "source": [
    "#下载图像文件，如果文件已经存在，那么就不下载。\n",
    "def maybe_download(filename):\n",
    "    \"\"\"Download the data from Yann's website, unless it's already here.\"\"\"\n",
    "    if not os.path.isdir(WORK_DIRECTORY):\n",
    "        os.mkdir(WORK_DIRECTORY)\n",
    "    filepath = os.path.join(WORK_DIRECTORY, filename)\n",
    "    if not os.path.exists(filepath):\n",
    "        filepath, _ = urllib.request.urlretrieve(SOURCE_URL + filename, filepath)\n",
    "        size = os.path.getsize(filepath)\n",
    "        print('Successfully downloaded', filename, size, 'bytes.')\n",
    "    return filepath\n",
    "# Get the data.\n",
    "train_data_filename = maybe_download('train-images-idx3-ubyte.gz')\n",
    "train_labels_filename = maybe_download('train-labels-idx1-ubyte.gz')\n",
    "test_data_filename = maybe_download('t10k-images-idx3-ubyte.gz')\n",
    "test_labels_filename = maybe_download('t10k-labels-idx1-ubyte.gz')\n",
    "\n",
    "def extract_data(filename, num_images):\n",
    "    # filename: 文件存放的路径，num_images: 读入的图片个数\n",
    "    \"\"\"将图像解压缩展开，读入成一个4维的张量： [image index（图像的编码）, y（纵坐标）, x（横坐标）, channels（通道）].\n",
    "    我们将数组中的数值范围从原来的[0, 255]降低到了[-0.5, 0.5]范围内\n",
    "    \"\"\"\n",
    "    print('Extracting', filename)\n",
    "    with gzip.open(filename) as bytestream:\n",
    "        bytestream.read(16)\n",
    "        buf = bytestream.read(IMAGE_SIZE * IMAGE_SIZE * num_images * NUM_CHANNELS)\n",
    "        data = np.frombuffer(buf, dtype=np.uint8).astype(np.float32)\n",
    "        data = (data - (PIXEL_DEPTH / 2.0)) / PIXEL_DEPTH\n",
    "        data = data.reshape(num_images, NUM_CHANNELS, IMAGE_SIZE, IMAGE_SIZE)\n",
    "        return data\n",
    "\n",
    "def extract_labels(filename, num_images):\n",
    "    \"\"\"将label的数据文件解压缩，并将label读成64位的整数\"\"\"\n",
    "    print('Extracting', filename)\n",
    "    with gzip.open(filename) as bytestream:\n",
    "        bytestream.read(8)\n",
    "        buf = bytestream.read(1 * num_images)\n",
    "        labels = np.frombuffer(buf, dtype=np.uint8).astype(np.int64)\n",
    "    return labels\n",
    "\n",
    "# 将数据解压缩并存储到数组中，60000张图片，60000个label，测试集中有10000张图片\n",
    "train_data = extract_data(train_data_filename, 60000)\n",
    "train_X = train_data.reshape(len(train_data), -1)\n",
    "train_labels = extract_labels(train_labels_filename, 60000)\n",
    "train_Y = train_labels.reshape(-1)\n",
    "\n",
    "test_data = extract_data(test_data_filename, 10000)\n",
    "test_X = test_data.reshape(len(test_data), -1)\n",
    "\n",
    "test_labels = extract_labels(test_labels_filename, 10000)\n",
    "test_Y = test_labels.reshape(-1)#此处需要修改tensor\n",
    "train_X.shape, train_Y.shape\n",
    "\n",
    "# train_X, train_Y 中分别存储的是向量化的训练数据与标签\n",
    "# test_X, test_Y 中分别存储的是向量化的测试数据与标签\n",
    "# train_X的维度是60000个样本，784个分量的图像向量\n",
    "# test_X的维度是10000个样本，784个分量的图像向量"
   ]
  },
  {
   "cell_type": "markdown",
   "metadata": {},
   "source": [
    "# 在这里写下你自己的代码"
   ]
  },
  {
   "cell_type": "markdown",
   "metadata": {},
   "source": [
    "### 第一步：定义神经网络，提示，可以使用简单的torch.nn.SequentialModel\n",
    "\n",
    "本文件是集智AI学园http://campus.swarma.org 出品的“火炬上的深度学习”第II课的配套源代码"
   ]
  },
  {
   "cell_type": "code",
   "execution_count": 7,
   "metadata": {
    "collapsed": true
   },
   "outputs": [],
   "source": [
    "#提示：需要考虑好网络有几层，每一层有多少个节点\n",
    "net = torch.nn.Sequential(\n",
    "    torch.nn.Linear(784, 548),\n",
    "#     torch.nn.BatchNorm1d(548),\n",
    "    torch.nn.ReLU(),\n",
    "    torch.nn.Dropout(0.5),\n",
    "    torch.nn.Linear(548, 10),\n",
    "    torch.nn.Sigmoid()\n",
    "#     torch.nn.BatchNorm1d(252),\n",
    "#     torch.nn.ReLU(),\n",
    "#     torch.nn.Dropout(0.2),\n",
    "#     torch.nn.Linear(252, 10),\n",
    "#     torch.nn.Sigmoid()\n",
    ")\n",
    "#检测是否需要gpu加速\n",
    "if USE_CUDA:\n",
    "    net.cuda()\n",
    "#问题：如果要增加新的神经网络层怎么办？\n",
    "#在Sequential里面增加新的隐含层，只要前后dimension一致"
   ]
  },
  {
   "cell_type": "markdown",
   "metadata": {},
   "source": [
    "### 第二步：构造损失函数和优化器"
   ]
  },
  {
   "cell_type": "code",
   "execution_count": 8,
   "metadata": {
    "collapsed": true
   },
   "outputs": [],
   "source": [
    "cost = torch.nn.CrossEntropyLoss()\n",
    "optimizer = torch.optim.SGD(net.parameters(), lr = 0.1)"
   ]
  },
  {
   "cell_type": "markdown",
   "metadata": {},
   "source": [
    "### 第三步：开始训练循环"
   ]
  },
  {
   "cell_type": "code",
   "execution_count": 9,
   "metadata": {
    "collapsed": true
   },
   "outputs": [],
   "source": [
    "#定义一个专门计算分类错误率的函数，它的基本思想是，对于预测向量predictions的每一行，\n",
    "#取最大的那个元素的下标，与标签labels中的元素做比较\n",
    "def error_rate(predictions, labels):\n",
    "   #计算预测错误率的函数，其中predictions是模型给出的一组预测结果，labels是数据之中的正确答案\n",
    "    predictions = np.argmax(predictions, 1)\n",
    "    return 100.0 - (\n",
    "      100.0 *\n",
    "      np.sum( predictions == labels) /\n",
    "      predictions.shape[0])"
   ]
  },
  {
   "cell_type": "code",
   "execution_count": 10,
   "metadata": {},
   "outputs": [
    {
     "name": "stdout",
     "output_type": "stream",
     "text": [
      "0 1.89731\n",
      "50 1.51193\n",
      "100 1.49677\n",
      "150 1.49018\n",
      "200 1.48534\n",
      "250 1.48237\n",
      "300 1.48019\n",
      "350 1.47888\n",
      "400 1.47726\n",
      "450 1.47609\n",
      "500 1.47524\n",
      "550 1.47442\n",
      "600 1.47345\n",
      "650 1.47286\n",
      "700 1.47237\n",
      "750 1.47188\n",
      "800 1.47142\n",
      "850 1.47125\n",
      "900 1.47082\n",
      "950 1.47041\n",
      "1000 1.47008\n",
      "1050 1.46989\n",
      "1100 1.46946\n",
      "1150 1.46908\n",
      "1200 1.46881\n",
      "1250 1.46871\n",
      "1300 1.46834\n",
      "1350 1.4684\n",
      "1400 1.46804\n",
      "1450 1.46785\n"
     ]
    }
   ],
   "source": [
    "#提示：有两重循环，最外面层是多少次的训练，里层为对数据批次（batch）的循环\n",
    "\n",
    "\n",
    "#神经网络训练循环\n",
    "batch_size = 128\n",
    "losses = []\n",
    "errors = []\n",
    "if USE_CUDA:\n",
    "    for i in range(1500):\n",
    "        #每128个样本点被划分为一个撮，在循环的时候一撮一撮地读取\n",
    "        batch_loss = []\n",
    "        batch_errors = []\n",
    "        #start和end分别是提取一个batch数据的起始和终止下标\n",
    "        for start in range(0, len(train_X), batch_size):\n",
    "            end = start + batch_size if start + batch_size < len(train_X) else len(train_X)\n",
    "            xx = Variable(torch.FloatTensor(train_X[start:end])).cuda()#从训练数据train_X中提取数据\n",
    "            yy = Variable(torch.LongTensor(train_Y[start:end])).cuda()  #从训练数据train_Y中提取标签，注意标签数据为整数，因此相应的tensor也要为long\n",
    "            predict = net(xx) #用神经网络进行预测\n",
    "            loss = cost(predict, yy) #计算损失函数（交叉熵）\n",
    "            err = error_rate(predict.data.cpu().numpy(), yy.data.cpu().numpy())\n",
    "            optimizer.zero_grad() #清空梯度\n",
    "            loss.backward() #开始反向传播\n",
    "            optimizer.step() #开始更新梯度\n",
    "            batch_loss.append(loss.data.cpu().numpy())\n",
    "            batch_errors.append(err)\n",
    "\n",
    "        #每隔100步输出一下损失值（loss）\n",
    "        if i % 50==0:\n",
    "            losses.append(np.mean(batch_loss))\n",
    "            errors.append(np.mean(batch_errors))\n",
    "            print(i, np.mean(batch_loss))\n",
    "else:\n",
    "    for i in range(1500):\n",
    "        #每128个样本点被划分为一个撮，在循环的时候一撮一撮地读取\n",
    "        batch_loss = []\n",
    "        batch_errors = []\n",
    "        #start和end分别是提取一个batch数据的起始和终止下标\n",
    "        for start in range(0, len(train_X), batch_size):\n",
    "            end = start + batch_size if start + batch_size < len(train_X) else len(train_X)\n",
    "            xx = Variable(torch.FloatTensor(train_X[start:end]))#从训练数据train_X中提取数据\n",
    "            yy = Variable(torch.LongTensor(train_Y[start:end]))  #从训练数据train_Y中提取标签，注意标签数据为整数，因此相应的tensor也要为long\n",
    "            predict = net(xx) #用神经网络进行预测\n",
    "            loss = cost(predict, yy) #计算损失函数（交叉熵）\n",
    "            err = error_rate(predict.data.numpy(), yy.data.numpy())\n",
    "            optimizer.zero_grad() #清空梯度\n",
    "            loss.backward() #开始反向传播\n",
    "            optimizer.step() #开始更新梯度\n",
    "            batch_loss.append(loss.data.numpy())\n",
    "            batch_errors.append(err)\n",
    "\n",
    "        #每隔50步输出一下损失值（loss）\n",
    "        if i % 50==0:\n",
    "            losses.append(np.mean(batch_loss))\n",
    "            errors.append(np.mean(batch_errors))\n",
    "            print(i, np.mean(batch_loss))\n",
    "    "
   ]
  },
  {
   "cell_type": "markdown",
   "metadata": {},
   "source": [
    "### 请在这里写下你自己的回答"
   ]
  },
  {
   "cell_type": "code",
   "execution_count": 11,
   "metadata": {},
   "outputs": [
    {
     "data": {
      "text/plain": [
       "<matplotlib.legend.Legend at 0x7f1f5ff5d9b0>"
      ]
     },
     "execution_count": 11,
     "metadata": {},
     "output_type": "execute_result"
    },
    {
     "data": {
      "image/png": "[encoded data removed]",
      "text/plain": [
       "<matplotlib.figure.Figure at 0x7f1f600094e0>"
      ]
     },
     "metadata": {},
     "output_type": "display_data"
    }
   ],
   "source": [
    "# 请绘制上面训练过程的损失函数曲线，以及'''错误率曲线'''！！！\n",
    "# 打印输出损失值\n",
    "plt.plot(np.arange(len(losses))*100,losses, label = 'Cross Entropy')\n",
    "plt.plot(np.arange(len(errors))*100, np.array(errors) / float(100), label = 'Error Rate')\n",
    "plt.xlabel('epoch')\n",
    "plt.ylabel('Cross Entropy/Error rates')\n",
    "plt.legend()"
   ]
  },
  {
   "cell_type": "markdown",
   "metadata": {},
   "source": [
    "### 第四步：在测试集上测试模型"
   ]
  },
  {
   "cell_type": "code",
   "execution_count": 12,
   "metadata": {},
   "outputs": [
    {
     "name": "stdout",
     "output_type": "stream",
     "text": [
      "1 2.03\n",
      "2 2.03606158833\n",
      "3 2.08333333333\n",
      "4 2.03826955075\n",
      "5 2.11846543002\n",
      "6 2.12606837607\n",
      "7 2.01473136915\n",
      "8 2.09797891037\n",
      "9 2.15017825312\n",
      "10 1.83092224231\n",
      "11 1.99541284404\n",
      "12 1.86219739292\n",
      "13 1.81947069943\n",
      "14 2.03934740883\n",
      "15 2.08333333333\n",
      "16 1.93069306931\n",
      "17 1.86116700201\n",
      "18 1.78936605317\n",
      "19 1.80613305613\n",
      "20 1.62526427061\n",
      "21 1.68010752688\n",
      "22 1.58643326039\n",
      "23 1.5868596882\n",
      "24 1.74319727891\n",
      "25 1.63106235566\n",
      "26 1.75\n",
      "27 1.64868105516\n",
      "28 1.69621026895\n",
      "29 1.62094763092\n",
      "30 1.74936386768\n",
      "31 1.44480519481\n",
      "32 1.52519893899\n",
      "33 1.50745257453\n",
      "34 1.43698060942\n",
      "35 1.32790368272\n",
      "36 1.41304347826\n",
      "37 1.29821958457\n",
      "38 1.13981762918\n",
      "39 1.26557632399\n",
      "40 1.25798722045\n",
      "41 1.27049180328\n",
      "42 1.30471380471\n",
      "43 1.34083044983\n",
      "44 1.15658362989\n",
      "45 1.30494505495\n",
      "46 1.10849056604\n",
      "47 1.09435797665\n",
      "48 0.978915662651\n",
      "49 1.08921161826\n",
      "50 1.01931330472\n",
      "51 1.27777777778\n",
      "52 1.26728110599\n",
      "53 1.22607655502\n",
      "54 0.901741293532\n",
      "55 1.06865284974\n",
      "56 1.0472972973\n",
      "57 1.09463276836\n",
      "58 1.33136094675\n",
      "59 1.3198757764\n",
      "60 1.26633986928\n",
      "61 1.25\n",
      "62 1.4598540146\n",
      "63 1.5503875969\n",
      "64 1.4979338843\n",
      "65 1.43805309735\n",
      "66 1.36904761905\n",
      "67 1.4175257732\n",
      "68 1.54494382022\n",
      "69 1.6975308642\n",
      "70 1.71232876712\n",
      "71 1.53846153846\n",
      "72 1.42543859649\n",
      "73 2.16836734694\n",
      "74 2.89634146341\n",
      "75 2.84090909091\n",
      "76 4.25\n",
      "77 4.41176470588\n",
      "78 1.38888888889\n",
      "79 0.0\n",
      "平均错误率：1.6326%\n"
     ]
    }
   ],
   "source": [
    "#分多个batch计算测试结果\n",
    "errors = []\n",
    "losses = []\n",
    "i = 0\n",
    "for start in range(0, len(test_X), batch_size):\n",
    "    end1 = start + batch_size if start + batch_size < len(test_X) else len(test_X)\n",
    "    i += 1\n",
    "    x = Variable(torch.FloatTensor(test_X[start:end]))\n",
    "    y = Variable(torch.LongTensor(test_Y[start:end]))\n",
    "    if USE_CUDA:\n",
    "        net.cpu()\n",
    "    predictions = net(x)\n",
    "    loss = cost(predictions, y)\n",
    "    err_rate = error_rate(predictions.data.numpy(), y.data.numpy())\n",
    "    errors.append(err_rate)\n",
    "    losses.append(loss.data.numpy())\n",
    "    print(i, err_rate)\n",
    "\n",
    "print('平均错误率：%.4f%%'%np.mean(errors))"
   ]
  },
  {
   "cell_type": "markdown",
   "metadata": {},
   "source": [
    "### 用单个图像进行测试"
   ]
  },
  {
   "cell_type": "code",
   "execution_count": 13,
   "metadata": {},
   "outputs": [
    {
     "data": {
      "text/plain": [
       "<matplotlib.image.AxesImage at 0x7f1f60005048>"
      ]
     },
     "execution_count": 13,
     "metadata": {},
     "output_type": "execute_result"
    },
    {
     "data": {
      "image/png": "[encoded data removed]",
      "text/plain": [
       "<matplotlib.figure.Figure at 0x7f1f5fff8080>"
      ]
     },
     "metadata": {},
     "output_type": "display_data"
    }
   ],
   "source": [
    "#随便从数据集中读入一张图片，并绘制出来\n",
    "idx = 128\n",
    "muteimg = test_data[idx, 0, :, :]\n",
    "plt.imshow(muteimg)"
   ]
  },
  {
   "cell_type": "code",
   "execution_count": 14,
   "metadata": {},
   "outputs": [
    {
     "data": {
      "text/plain": [
       "8"
      ]
     },
     "execution_count": 14,
     "metadata": {},
     "output_type": "execute_result"
    }
   ],
   "source": [
    "#计算识别结果\n",
    "x = Variable(torch.FloatTensor(test_X[idx, :].reshape(1, -1)))\n",
    "predict = net(x)\n",
    "np.argmax(predict.data.numpy())"
   ]
  },
  {
   "cell_type": "markdown",
   "metadata": {},
   "source": [
    "## 升级版"
   ]
  },
  {
   "cell_type": "markdown",
   "metadata": {},
   "source": [
    "如果你已经运行跑通上面的所有代码，那么请你尝试对其进行更改，让测试集上面的识别错误率进一步下降，看看能不能到1%以下\n",
    "\n",
    "提示：可以考虑增加层的深度\n",
    "\n",
    "本文件是集智AI学园http://campus.swarma.org 出品的“火炬上的深度学习”第II课的配套源代码"
   ]
  }
 ],
 "metadata": {
  "kernelspec": {
   "display_name": "Python 3",
   "language": "python",
   "name": "python3"
  },
  "language_info": {
   "codemirror_mode": {
    "name": "ipython",
    "version": 3
   },
   "file_extension": ".py",
   "mimetype": "text/x-python",
   "name": "python",
   "nbconvert_exporter": "python",
   "pygments_lexer": "ipython3",
   "version": "3.6.2"
  }
 },
 "nbformat": 4,
 "nbformat_minor": 2
}
